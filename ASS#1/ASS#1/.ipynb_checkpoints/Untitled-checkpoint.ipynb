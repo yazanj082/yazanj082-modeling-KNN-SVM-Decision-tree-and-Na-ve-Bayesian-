{
 "cells": [
  {
   "cell_type": "code",
   "execution_count": 1,
   "id": "5de8ae51",
   "metadata": {},
   "outputs": [],
   "source": [
    "import numpy as np\n",
    "import pandas as pd\n",
    "import matplotlib.pyplot as plt\n",
    "import seaborn as sns\n",
    "from sklearn.model_selection import train_test_split\n",
    "from nltk.corpus import stopwords\n",
    "from nltk.tokenize import word_tokenize\n",
    "import nltk\n",
    "from sklearn.feature_extraction.text import CountVectorizer\n",
    "from random import randint\n",
    "from sklearn.model_selection import RandomizedSearchCV\n",
    "from sklearn.metrics import confusion_matrix\n"
   ]
  },
  {
   "cell_type": "code",
   "execution_count": 2,
   "id": "7cb433c5",
   "metadata": {},
   "outputs": [
    {
     "data": {
      "text/html": [
       "<div>\n",
       "<style scoped>\n",
       "    .dataframe tbody tr th:only-of-type {\n",
       "        vertical-align: middle;\n",
       "    }\n",
       "\n",
       "    .dataframe tbody tr th {\n",
       "        vertical-align: top;\n",
       "    }\n",
       "\n",
       "    .dataframe thead th {\n",
       "        text-align: right;\n",
       "    }\n",
       "</style>\n",
       "<table border=\"1\" class=\"dataframe\">\n",
       "  <thead>\n",
       "    <tr style=\"text-align: right;\">\n",
       "      <th></th>\n",
       "      <th>0</th>\n",
       "      <th>1</th>\n",
       "    </tr>\n",
       "  </thead>\n",
       "  <tbody>\n",
       "    <tr>\n",
       "      <th>0</th>\n",
       "      <td>ham</td>\n",
       "      <td>Go until jurong point, crazy.. Available only ...</td>\n",
       "    </tr>\n",
       "    <tr>\n",
       "      <th>1</th>\n",
       "      <td>ham</td>\n",
       "      <td>Ok lar... Joking wif u oni...\\n</td>\n",
       "    </tr>\n",
       "    <tr>\n",
       "      <th>2</th>\n",
       "      <td>spam</td>\n",
       "      <td>Free entry in 2 a wkly comp to win FA Cup fina...</td>\n",
       "    </tr>\n",
       "    <tr>\n",
       "      <th>3</th>\n",
       "      <td>ham</td>\n",
       "      <td>U dun say so early hor... U c already then say...</td>\n",
       "    </tr>\n",
       "    <tr>\n",
       "      <th>4</th>\n",
       "      <td>ham</td>\n",
       "      <td>Nah I don't think he goes to usf, he lives aro...</td>\n",
       "    </tr>\n",
       "  </tbody>\n",
       "</table>\n",
       "</div>"
      ],
      "text/plain": [
       "      0                                                  1\n",
       "0   ham  Go until jurong point, crazy.. Available only ...\n",
       "1   ham                    Ok lar... Joking wif u oni...\\n\n",
       "2  spam  Free entry in 2 a wkly comp to win FA Cup fina...\n",
       "3   ham  U dun say so early hor... U c already then say...\n",
       "4   ham  Nah I don't think he goes to usf, he lives aro..."
      ]
     },
     "execution_count": 2,
     "metadata": {},
     "output_type": "execute_result"
    }
   ],
   "source": [
    "\n",
    "path = r\"C:\\Users\\yjarrar\\Documents\\pyprojects\\ASS#1\\SMSSpamCollection\"\n",
    "f = open(path, \"rt\")\n",
    "text = f.readlines()\n",
    "df = pd.DataFrame([x.split('\\t') for x in text])\n",
    "df.head()\n",
    "\n"
   ]
  },
  {
   "cell_type": "code",
   "execution_count": 33,
   "id": "c299269b",
   "metadata": {},
   "outputs": [],
   "source": [
    "df[1] = df[1].str.strip().str.lower()\n",
    "from textblob import TextBlob\n",
    "\n",
    "# Use TextBlob\n",
    "def textblob_tokenizer(str_input):\n",
    "    blob = TextBlob(str_input.lower())\n",
    "    \n",
    "    tokens = blob.words\n",
    "    \n",
    "    words = [token.stem() for token in tokens]\n",
    "    return words"
   ]
  },
  {
   "cell_type": "code",
   "execution_count": 36,
   "id": "bff587e7",
   "metadata": {},
   "outputs": [
    {
     "name": "stderr",
     "output_type": "stream",
     "text": [
      "C:\\Users\\yjarrar\\AppData\\Local\\Packages\\PythonSoftwareFoundation.Python.3.10_qbz5n2kfra8p0\\LocalCache\\local-packages\\Python310\\site-packages\\sklearn\\feature_extraction\\text.py:396: UserWarning: Your stop_words may be inconsistent with your preprocessing. Tokenizing the stop words generated tokens ['abov', 'afterward', 'alon', 'alreadi', 'alway', 'ani', 'anoth', 'anyon', 'anyth', 'anywher', 'becam', 'becaus', 'becom', 'befor', 'besid', 'cri', 'describ', 'dure', 'els', 'elsewher', 'empti', 'everi', 'everyon', 'everyth', 'everywher', 'fifti', 'formerli', 'forti', 'ha', 'henc', 'hereaft', 'herebi', 'hi', 'howev', 'hundr', 'inde', 'latterli', 'mani', 'meanwhil', 'moreov', 'mostli', 'nobodi', 'noon', 'noth', 'nowher', 'onc', 'onli', 'otherwis', 'ourselv', 'perhap', 'pleas', 'seriou', 'sever', 'sinc', 'sincer', 'sixti', 'someon', 'someth', 'sometim', 'somewher', 'themselv', 'thenc', 'thereaft', 'therebi', 'therefor', 'thi', 'thu', 'togeth', 'twelv', 'twenti', 'veri', 'wa', 'whatev', 'whenc', 'whenev', 'wherea', 'whereaft', 'wherebi', 'wherev', 'whi', 'yourselv'] not in stop_words.\n",
      "  warnings.warn(\n",
      "C:\\Users\\yjarrar\\AppData\\Local\\Packages\\PythonSoftwareFoundation.Python.3.10_qbz5n2kfra8p0\\LocalCache\\local-packages\\Python310\\site-packages\\sklearn\\utils\\deprecation.py:87: FutureWarning: Function get_feature_names is deprecated; get_feature_names is deprecated in 1.0 and will be removed in 1.2. Please use get_feature_names_out instead.\n",
      "  warnings.warn(msg, category=FutureWarning)\n"
     ]
    }
   ],
   "source": [
    "x = df[1]\n",
    "y = df[0]\n",
    "x, x_test, y, y_test = train_test_split(x,y, stratify=y, test_size=0.25, random_state=42)\n",
    "vec = CountVectorizer(stop_words='english' ,tokenizer=textblob_tokenizer)\n",
    "x = vec.fit_transform(x).toarray()\n",
    "x_test = vec.transform(x_test).toarray()\n",
    "results = pd.DataFrame(x, columns=vec.get_feature_names())"
   ]
  },
  {
   "cell_type": "code",
   "execution_count": 8,
   "id": "df1b4162",
   "metadata": {},
   "outputs": [
    {
     "data": {
      "text/plain": [
       "MultinomialNB()"
      ]
     },
     "execution_count": 8,
     "metadata": {},
     "output_type": "execute_result"
    }
   ],
   "source": [
    "from sklearn.naive_bayes import MultinomialNB\n",
    "\n",
    "model = MultinomialNB()\n",
    "model.fit(x, y)"
   ]
  },
  {
   "cell_type": "code",
   "execution_count": 9,
   "id": "8172fc99",
   "metadata": {},
   "outputs": [
    {
     "name": "stdout",
     "output_type": "stream",
     "text": [
      "0.9827833572453372\n",
      "matrix:  [[1202    5]\n",
      " [  19  168]]\n",
      "precision:  0.9844389844389845\n",
      "recall:  0.995857497928749\n",
      "F1:  0.9901153212520593\n"
     ]
    }
   ],
   "source": [
    "print(model.score(x_test, y_test))\n",
    "y_pred = model.predict(x_test)\n",
    "cf_matrix = confusion_matrix(y_test, y_pred)\n",
    "\n",
    "print(\"matrix: \",cf_matrix)\n",
    "print(\"precision: \",cf_matrix[0][0]/(cf_matrix[0][0]+cf_matrix[1][0]))\n",
    "print(\"recall: \",cf_matrix[0][0]/(cf_matrix[0][0]+cf_matrix[0][1]))\n",
    "print(\"F1: \",2*cf_matrix[0][0]/(2*cf_matrix[0][0]+cf_matrix[0][1]+cf_matrix[1][0]))\n",
    "pair1=(cf_matrix[0][0]/(cf_matrix[0][0]+cf_matrix[0][1]),cf_matrix[1][0]/(cf_matrix[1][0]+cf_matrix[1][1]))"
   ]
  },
  {
   "cell_type": "code",
   "execution_count": 10,
   "id": "4d53b01c",
   "metadata": {},
   "outputs": [
    {
     "data": {
      "text/plain": [
       "array(['ham'], dtype='<U4')"
      ]
     },
     "execution_count": 10,
     "metadata": {},
     "output_type": "execute_result"
    }
   ],
   "source": [
    "model.predict(vec.transform([\"hi\"]))"
   ]
  },
  {
   "cell_type": "code",
   "execution_count": 11,
   "id": "585e0846",
   "metadata": {},
   "outputs": [],
   "source": [
    "from sklearn.neighbors import KNeighborsClassifier\n"
   ]
  },
  {
   "cell_type": "code",
   "execution_count": 12,
   "id": "ffd381d3",
   "metadata": {},
   "outputs": [
    {
     "data": {
      "image/png": "[encoded data removed]",
      "text/plain": [
       "<Figure size 432x288 with 1 Axes>"
      ]
     },
     "metadata": {
      "needs_background": "light"
     },
     "output_type": "display_data"
    },
    {
     "name": "stdout",
     "output_type": "stream",
     "text": [
      "Maximum KNN Score is 95.19%\n",
      "[[1207    0]\n",
      " [ 182    5]]\n",
      "precision:  0.8689704823614111\n",
      "recall:  1.0\n",
      "F1:  0.9298921417565486\n",
      "CPU times: total: 1min 18s\n",
      "Wall time: 16.9 s\n"
     ]
    }
   ],
   "source": [
    "%%time\n",
    "scoreList = []\n",
    "for i in range(1,20):\n",
    "    knn2 = KNeighborsClassifier(n_neighbors = i)  # n_neighbors means k\n",
    "    knn2.fit(x, y)\n",
    "    scoreList.append(knn2.score(x_test, y_test))\n",
    "    \n",
    "plt.plot(range(1,20), scoreList)\n",
    "plt.xticks(np.arange(1,20,1))\n",
    "plt.xlabel(\"K value\")\n",
    "plt.ylabel(\"Score\")\n",
    "plt.show()\n",
    "accuracies = {}\n",
    "acc = max(scoreList)*100\n",
    "accuracies['KNN'] = acc\n",
    "print(\"Maximum KNN Score is {:.2f}%\".format(acc))\n",
    "\n",
    "y_pred = knn2.predict(x_test)\n",
    "cf_matrix = confusion_matrix(y_test, y_pred)\n",
    "\n",
    "print(cf_matrix)\n",
    "print(\"precision: \",cf_matrix[0][0]/(cf_matrix[0][0]+cf_matrix[1][0]))\n",
    "print(\"recall: \",cf_matrix[0][0]/(cf_matrix[0][0]+cf_matrix[0][1]))\n",
    "print(\"F1: \",2*cf_matrix[0][0]/(2*cf_matrix[0][0]+cf_matrix[0][1]+cf_matrix[1][0]))\n",
    "pair2=(cf_matrix[0][0]/(cf_matrix[0][0]+cf_matrix[0][1]),cf_matrix[1][0]/(cf_matrix[1][0]+cf_matrix[1][1]))"
   ]
  },
  {
   "cell_type": "code",
   "execution_count": 13,
   "id": "6dc4463a",
   "metadata": {},
   "outputs": [
    {
     "name": "stdout",
     "output_type": "stream",
     "text": [
      "score is 96.84361549497848\n",
      "[[1193   14]\n",
      " [  30  157]]\n",
      "precision:  0.9754701553556827\n",
      "recall:  0.9884009942004971\n",
      "F1:  0.9818930041152263\n",
      "CPU times: total: 14.8 s\n",
      "Wall time: 14.8 s\n"
     ]
    }
   ],
   "source": [
    "%%time\n",
    "from sklearn.tree import DecisionTreeClassifier\n",
    "param_dist = { 'max_depth': [None]}\n",
    "\n",
    "dtc = DecisionTreeClassifier(criterion=\"gini\")\n",
    "#tree_cv = RandomizedSearchCV(dtc, param_dist, cv=5)\n",
    "dtc.fit(x, y)\n",
    "\n",
    "acc = dtc.score(x_test, y_test)*100\n",
    "#print(\"Tuned Decision Tree Parameters: {}\".format(dtc.best_params_))\n",
    "print(\"score is {}\".format(acc))\n",
    "\n",
    "y_pred = dtc.predict(x_test)\n",
    "cf_matrix = confusion_matrix(y_test, y_pred)\n",
    "\n",
    "print(cf_matrix)\n",
    "print(\"precision: \",cf_matrix[0][0]/(cf_matrix[0][0]+cf_matrix[1][0]))\n",
    "print(\"recall: \",cf_matrix[0][0]/(cf_matrix[0][0]+cf_matrix[0][1]))\n",
    "print(\"F1: \",2*cf_matrix[0][0]/(2*cf_matrix[0][0]+cf_matrix[0][1]+cf_matrix[1][0]))\n",
    "pair3=(cf_matrix[0][0]/(cf_matrix[0][0]+cf_matrix[0][1]),cf_matrix[1][0]/(cf_matrix[1][0]+cf_matrix[1][1]))"
   ]
  },
  {
   "cell_type": "code",
   "execution_count": 14,
   "id": "16c0064c",
   "metadata": {},
   "outputs": [
    {
     "name": "stdout",
     "output_type": "stream",
     "text": [
      "score is 98.42180774748924\n",
      "[[1204    3]\n",
      " [  19  168]]\n",
      "precision:  0.9844644317252658\n",
      "recall:  0.9975144987572494\n",
      "F1:  0.9909465020576131\n",
      "CPU times: total: 13.1 s\n",
      "Wall time: 13.1 s\n"
     ]
    }
   ],
   "source": [
    "%%time\n",
    "from sklearn import svm\n",
    "\n",
    "#Create a svm Classifier\n",
    "clf = svm.SVC(kernel='linear') # Linear Kernel\n",
    "\n",
    "#Train the model using the training sets\n",
    "clf.fit(x, y)\n",
    "\n",
    "#Predict the response for test dataset\n",
    "acc = clf.score(x_test, y_test)*100\n",
    "print(\"score is {}\".format(acc))\n",
    "\n",
    "\n",
    "y_pred = clf.predict(x_test)\n",
    "cf_matrix = confusion_matrix(y_test, y_pred)\n",
    "\n",
    "print(cf_matrix)\n",
    "print(\"precision: \",cf_matrix[0][0]/(cf_matrix[0][0]+cf_matrix[1][0]))\n",
    "print(\"recall: \",cf_matrix[0][0]/(cf_matrix[0][0]+cf_matrix[0][1]))\n",
    "print(\"F1: \",2*cf_matrix[0][0]/(2*cf_matrix[0][0]+cf_matrix[0][1]+cf_matrix[1][0]))\n",
    "pair4=(cf_matrix[0][0]/(cf_matrix[0][0]+cf_matrix[0][1]),cf_matrix[1][0]/(cf_matrix[1][0]+cf_matrix[1][1]))"
   ]
  },
  {
   "cell_type": "code",
   "execution_count": 49,
   "id": "a858baeb",
   "metadata": {},
   "outputs": [
    {
     "data": {
      "text/plain": [
       "[<matplotlib.lines.Line2D at 0x2137f92ed40>]"
      ]
     },
     "execution_count": 49,
     "metadata": {},
     "output_type": "execute_result"
    },
    {
     "data": {
      "image/png": "[encoded data removed]",
      "text/plain": [
       "<Figure size 432x288 with 1 Axes>"
      ]
     },
     "metadata": {
      "needs_background": "light"
     },
     "output_type": "display_data"
    }
   ],
   "source": [
    "plt.xlabel('FPR')\n",
    "plt.ylabel('TPR')\n",
    "plt.grid()\n",
    "plt.plot(pair1[1],pair1[0],'o') \n",
    "plt.plot(pair2[1],pair2[0],'ro') \n",
    "plt.plot(pair3[1],pair3[0],'x') \n",
    "plt.plot(pair4[1],pair4[0],'1') "
   ]
  },
  {
   "cell_type": "code",
   "execution_count": null,
   "id": "b19d7c04",
   "metadata": {},
   "outputs": [],
   "source": []
  }
 ],
 "metadata": {
  "kernelspec": {
   "display_name": "Python 3 (ipykernel)",
   "language": "python",
   "name": "python3"
  },
  "language_info": {
   "codemirror_mode": {
    "name": "ipython",
    "version": 3
   },
   "file_extension": ".py",
   "mimetype": "text/x-python",
   "name": "python",
   "nbconvert_exporter": "python",
   "pygments_lexer": "ipython3",
   "version": "3.10.2"
  }
 },
 "nbformat": 4,
 "nbformat_minor": 5
}
